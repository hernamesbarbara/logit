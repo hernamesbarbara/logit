{
 "metadata": {
  "name": "German Credit Risk"
 },
 "nbformat": 3,
 "nbformat_minor": 0,
 "worksheets": [
  {
   "cells": [
    {
     "cell_type": "code",
     "collapsed": false,
     "input": [
      "import numpy as np\n",
      "import pandas as pd\n",
      "import matplotlib.pyplot as plt\n",
      "import pylab as pl\n",
      "\n",
      "import statsmodels.api as sm\n",
      "\n",
      "from sklearn.metrics import roc_curve, auc\n",
      "from sklearn.ensemble.gradient_boosting import LogOddsEstimator, GradientBoostingClassifier\n",
      "from sklearn.metrics import mean_squared_error\n",
      "from sklearn.utils import shuffle"
     ],
     "language": "python",
     "metadata": {},
     "outputs": [],
     "prompt_number": 87
    },
    {
     "cell_type": "code",
     "collapsed": false,
     "input": [
      "url = 'http://archive.ics.uci.edu/ml/machine-learning-databases/statlog/german/german.data'\n",
      "variables = ['Status of existing checking account',\n",
      "             'Duration in month',\n",
      "             'Credit history',\n",
      "             'Purpose',\n",
      "             'Credit amount',\n",
      "             'Savings account/bonds',\n",
      "             'Present employment since',\n",
      "             'Installment rate in percentage of disposable income',\n",
      "             'Personal status and sex',\n",
      "             'Other debtors / guarantors',\n",
      "             'Present residence since',\n",
      "             'Property',\n",
      "             'Age in years',\n",
      "             'Other installment plans',\n",
      "             'Housing',\n",
      "             'Number of existing credits at this bank',\n",
      "             'Job',\n",
      "             'Number of people being liable to provide maintenance for',\n",
      "             'Telephone',\n",
      "             'foreign worker',\n",
      "             'Classification']\n",
      "df = pd.read_csv(url, sep=' ', names=variables)\n",
      "df.head()"
     ],
     "language": "python",
     "metadata": {},
     "outputs": [
      {
       "output_type": "pyout",
       "prompt_number": 88,
       "text": [
        "<class 'pandas.core.frame.DataFrame'>\n",
        "Int64Index: 5 entries, 0 to 4\n",
        "Data columns:\n",
        "Status of existing checking account                         5  non-null values\n",
        "Duration in month                                           5  non-null values\n",
        "Credit history                                              5  non-null values\n",
        "Purpose                                                     5  non-null values\n",
        "Credit amount                                               5  non-null values\n",
        "Savings account/bonds                                       5  non-null values\n",
        "Present employment since                                    5  non-null values\n",
        "Installment rate in percentage of disposable income         5  non-null values\n",
        "Personal status and sex                                     5  non-null values\n",
        "Other debtors / guarantors                                  5  non-null values\n",
        "Present residence since                                     5  non-null values\n",
        "Property                                                    5  non-null values\n",
        "Age in years                                                5  non-null values\n",
        "Other installment plans                                     5  non-null values\n",
        "Housing                                                     5  non-null values\n",
        "Number of existing credits at this bank                     5  non-null values\n",
        "Job                                                         5  non-null values\n",
        "Number of people being liable to provide maintenance for    5  non-null values\n",
        "Telephone                                                   5  non-null values\n",
        "foreign worker                                              5  non-null values\n",
        "Classification                                              5  non-null values\n",
        "dtypes: int64(8), object(13)"
       ]
      }
     ],
     "prompt_number": 88
    },
    {
     "cell_type": "code",
     "collapsed": false,
     "input": [
      "to_snake = lambda x: x.lower().replace(\" \", \"_\")"
     ],
     "language": "python",
     "metadata": {},
     "outputs": [],
     "prompt_number": 89
    },
    {
     "cell_type": "code",
     "collapsed": false,
     "input": [
      "df.columns = map(to_snake, df.columns)"
     ],
     "language": "python",
     "metadata": {},
     "outputs": [],
     "prompt_number": 90
    },
    {
     "cell_type": "code",
     "collapsed": false,
     "input": [
      "df.groupby(['classification']).size()"
     ],
     "language": "python",
     "metadata": {},
     "outputs": [
      {
       "output_type": "pyout",
       "prompt_number": 91,
       "text": [
        "classification\n",
        "1                 700\n",
        "2                 300"
       ]
      }
     ],
     "prompt_number": 91
    },
    {
     "cell_type": "code",
     "collapsed": false,
     "input": [
      "df['bad'] = (df.classification==2).astype(int)\n",
      "df = df.drop(['classification'], axis=1)"
     ],
     "language": "python",
     "metadata": {},
     "outputs": [],
     "prompt_number": 92
    },
    {
     "cell_type": "code",
     "collapsed": false,
     "input": [
      "df.groupby(['bad']).size()"
     ],
     "language": "python",
     "metadata": {},
     "outputs": [
      {
       "output_type": "pyout",
       "prompt_number": 93,
       "text": [
        "bad\n",
        "0      700\n",
        "1      300"
       ]
      }
     ],
     "prompt_number": 93
    },
    {
     "cell_type": "code",
     "collapsed": false,
     "input": [
      "possible_features = np.array([col for col in df.columns if col != 'bad'])\n",
      "possible_features"
     ],
     "language": "python",
     "metadata": {},
     "outputs": [
      {
       "output_type": "pyout",
       "prompt_number": 94,
       "text": [
        "array(['status_of_existing_checking_account', 'duration_in_month',\n",
        "       'credit_history', 'purpose', 'credit_amount',\n",
        "       'savings_account/bonds', 'present_employment_since',\n",
        "       'installment_rate_in_percentage_of_disposable_income',\n",
        "       'personal_status_and_sex', 'other_debtors_/_guarantors',\n",
        "       'present_residence_since', 'property', 'age_in_years',\n",
        "       'other_installment_plans', 'housing',\n",
        "       'number_of_existing_credits_at_this_bank', 'job',\n",
        "       'number_of_people_being_liable_to_provide_maintenance_for',\n",
        "       'telephone', 'foreign_worker'], \n",
        "      dtype='|S56')"
       ]
      }
     ],
     "prompt_number": 94
    },
    {
     "cell_type": "code",
     "collapsed": false,
     "input": [
      "grouper = ['purpose']\n",
      "\n",
      "def prop_bad(group):\n",
      "    nrow = float(len(group))\n",
      "    n_bad = group.bad.sum()\n",
      "    return n_bad / nrow\n",
      "\n",
      "print df.groupby(grouper).apply(prop_bad)"
     ],
     "language": "python",
     "metadata": {},
     "outputs": [
      {
       "output_type": "stream",
       "stream": "stdout",
       "text": [
        "purpose\n",
        "A40        0.380342\n",
        "A41        0.165049\n",
        "A410       0.416667\n",
        "A42        0.320442\n",
        "A43        0.221429\n",
        "A44        0.333333\n",
        "A45        0.363636\n",
        "A46        0.440000\n",
        "A48        0.111111\n",
        "A49        0.350515\n"
       ]
      }
     ],
     "prompt_number": 95
    },
    {
     "cell_type": "code",
     "collapsed": false,
     "input": [
      "purpose_int = pd.factorize(df['purpose'], sort=True)[0]\n",
      "\n",
      "df['purpose_int'] = df.purpose.replace(df.purpose, purpose_int)"
     ],
     "language": "python",
     "metadata": {},
     "outputs": [],
     "prompt_number": 96
    },
    {
     "cell_type": "code",
     "collapsed": false,
     "input": [
      "other_debtors_int = pd.factorize(df['other_debtors_/_guarantors'], sort=True)[0]\n",
      "\n",
      "df['other_debtors_int'] = df['other_debtors_/_guarantors'].replace(df['other_debtors_/_guarantors'], other_debtors_int)"
     ],
     "language": "python",
     "metadata": {},
     "outputs": [],
     "prompt_number": 97
    },
    {
     "cell_type": "code",
     "collapsed": false,
     "input": [
      "np.all(df.groupby('other_debtors_/_guarantors').size() == df.groupby('other_debtors_int').size())"
     ],
     "language": "python",
     "metadata": {},
     "outputs": [
      {
       "output_type": "pyout",
       "prompt_number": 98,
       "text": [
        "True"
       ]
      }
     ],
     "prompt_number": 98
    },
    {
     "cell_type": "code",
     "collapsed": false,
     "input": [
      "credit_history_int = pd.factorize(df.credit_history, sort=True)[0]\n",
      "df['credit_history_int'] = df.credit_history.replace(df.credit_history, credit_history_int)"
     ],
     "language": "python",
     "metadata": {},
     "outputs": [],
     "prompt_number": 99
    },
    {
     "cell_type": "code",
     "collapsed": false,
     "input": [
      "housing_int = pd.factorize(df.housing, sort=True)[0]\n",
      "df['housing_int'] = df.housing.replace(df.housing, housing_int)"
     ],
     "language": "python",
     "metadata": {},
     "outputs": [],
     "prompt_number": 100
    },
    {
     "cell_type": "code",
     "collapsed": false,
     "input": [
      "df.age_in_years = df.age_in_years.astype(float)"
     ],
     "language": "python",
     "metadata": {},
     "outputs": [],
     "prompt_number": 101
    },
    {
     "cell_type": "code",
     "collapsed": false,
     "input": [
      "target = ['bad']\n",
      "possible_features = ['credit_history_int', 'purpose_int', 'housing_int', 'age_in_years', 'other_debtors_int', 'number_of_existing_credits_at_this_bank']\n",
      "#possible_features = ['age_in_years', 'credit_history_int']\n",
      "selected = possible_features + target"
     ],
     "language": "python",
     "metadata": {},
     "outputs": [],
     "prompt_number": 102
    },
    {
     "cell_type": "code",
     "collapsed": false,
     "input": [
      "df2 = df[selected]"
     ],
     "language": "python",
     "metadata": {},
     "outputs": [],
     "prompt_number": 103
    },
    {
     "cell_type": "code",
     "collapsed": false,
     "input": [
      "X, y = shuffle(df2[possible_features], df2.bad)\n",
      "offset = int(X.shape[0] * 0.9)\n",
      "X_train, y_train = X[:offset], y[:offset]\n",
      "X_test, y_test = X[offset:], y[offset:]"
     ],
     "language": "python",
     "metadata": {},
     "outputs": [],
     "prompt_number": 104
    },
    {
     "cell_type": "code",
     "collapsed": false,
     "input": [
      "params = {'init': LogOddsEstimator(), 'n_estimators': 5, 'max_depth': 6, 'learning_rate': 0.1, 'loss': 'bdeviance'}\n",
      "clf = GradientBoostingClassifier(**params)"
     ],
     "language": "python",
     "metadata": {},
     "outputs": [],
     "prompt_number": 105
    },
    {
     "cell_type": "code",
     "collapsed": false,
     "input": [
      "clf = clf.fit(X_train, y_train)\n",
      "predicted = clf.predict(X_test)"
     ],
     "language": "python",
     "metadata": {},
     "outputs": [],
     "prompt_number": 106
    },
    {
     "cell_type": "code",
     "collapsed": false,
     "input": [
      "clf.feature_importances_"
     ],
     "language": "python",
     "metadata": {},
     "outputs": [
      {
       "output_type": "pyout",
       "prompt_number": 107,
       "text": [
        "array([ 0.58007398,  0.07301049,  0.01527572,  0.26206282,  0.05602273,\n",
        "        0.01355426])"
       ]
      }
     ],
     "prompt_number": 107
    },
    {
     "cell_type": "code",
     "collapsed": false,
     "input": [
      "print \"Mean Squared Error\"\n",
      "mse = mean_squared_error(y_test, predicted)\n",
      "print(\"MSE: %.4f\" % mse)\n",
      "print "
     ],
     "language": "python",
     "metadata": {},
     "outputs": [
      {
       "output_type": "stream",
       "stream": "stdout",
       "text": [
        "Mean Squared Error\n",
        "MSE: 0.2700\n",
        "\n"
       ]
      }
     ],
     "prompt_number": 108
    },
    {
     "cell_type": "code",
     "collapsed": false,
     "input": [
      "params = clf.get_params()\n",
      "params"
     ],
     "language": "python",
     "metadata": {},
     "outputs": [
      {
       "output_type": "pyout",
       "prompt_number": 109,
       "text": [
        "{'init': LogOddsEstimator(),\n",
        " 'learn_rate': None,\n",
        " 'learning_rate': 0.1,\n",
        " 'loss': 'bdeviance',\n",
        " 'max_depth': 6,\n",
        " 'max_features': None,\n",
        " 'min_samples_leaf': 1,\n",
        " 'min_samples_split': 2,\n",
        " 'n_estimators': 5,\n",
        " 'random_state': None,\n",
        " 'subsample': 1.0,\n",
        " 'verbose': 0}"
       ]
      }
     ],
     "prompt_number": 109
    },
    {
     "cell_type": "code",
     "collapsed": false,
     "input": [
      "test_score = np.zeros((params['n_estimators'],), dtype=np.float64)\n",
      "test_score"
     ],
     "language": "python",
     "metadata": {},
     "outputs": [
      {
       "output_type": "pyout",
       "prompt_number": 110,
       "text": [
        "array([ 0.,  0.,  0.,  0.,  0.])"
       ]
      }
     ],
     "prompt_number": 110
    },
    {
     "cell_type": "code",
     "collapsed": false,
     "input": [
      "for i, y_pred in enumerate(clf.staged_decision_function(X_test)):\n",
      "    test_score[i] = clf.loss_(y_test, y_pred)\n",
      "    \n",
      "test_score"
     ],
     "language": "python",
     "metadata": {},
     "outputs": [
      {
       "output_type": "pyout",
       "prompt_number": 111,
       "text": [
        "array([ 1.15003629,  1.1370461 ,  1.12933513,  1.12910508,  1.12946729])"
       ]
      }
     ],
     "prompt_number": 111
    },
    {
     "cell_type": "code",
     "collapsed": false,
     "input": [
      "plt.figure(figsize=(12, 6))\n",
      "plt.subplot(1, 2, 1)\n",
      "plt.title('Deviance')\n",
      "plt.plot(np.arange(params['n_estimators']) + 1, clf.train_score_, 'b-',\n",
      "        label='Training Set Deviance')\n",
      "plt.plot(np.arange(params['n_estimators']) + 1, test_score, 'r-',\n",
      "        label='Test Set Deviance')\n",
      "plt.legend(loc='upper right')\n",
      "plt.xlabel('Boosting Iterations')\n",
      "plt.ylabel('Deviance')\n",
      "\n",
      "feature_importance = clf.feature_importances_\n",
      "\n",
      "feature_importance = 100.0 * (feature_importance / feature_importance.max())\n",
      "sorted_idx = np.argsort(feature_importance)\n",
      "pos = np.arange(sorted_idx.shape[0]) + .5\n",
      "\n",
      "plt.subplot(1, 2, 2)\n",
      "plt.barh(pos, feature_importance[sorted_idx], align='center')\n",
      "\n",
      "plt.yticks(pos, np.array(possible_features)[sorted_idx])\n",
      "\n",
      "plt.xlabel('Relative Importance')\n",
      "plt.title('Variable Importance')\n",
      "plt.show()"
     ],
     "language": "python",
     "metadata": {},
     "outputs": [
      {
       "output_type": "display_data",
       "png": "[encoded data removed]"
      }
     ],
     "prompt_number": 112
    },
    {
     "cell_type": "code",
     "collapsed": false,
     "input": [
      "df2 = sm.add_constant(df2, prepend=True) if not 'const' in df2.columns else df2"
     ],
     "language": "python",
     "metadata": {},
     "outputs": [],
     "prompt_number": 113
    },
    {
     "cell_type": "code",
     "collapsed": false,
     "input": [
      "test_train_split = 0.3\n",
      "\n",
      "feature_names = ['credit_history_int', 'age_in_years']\n",
      "df2['istest'] = np.random.uniform(size=len(df2)) < test_train_split\n",
      "\n",
      "df2.groupby('istest').size()"
     ],
     "language": "python",
     "metadata": {},
     "outputs": [
      {
       "output_type": "pyout",
       "prompt_number": 114,
       "text": [
        "istest\n",
        "False     697\n",
        "True      303"
       ]
      }
     ],
     "prompt_number": 114
    },
    {
     "cell_type": "code",
     "collapsed": false,
     "input": [
      "test = df2[df2.istest]\n",
      "train = df2[-df2.istest]"
     ],
     "language": "python",
     "metadata": {},
     "outputs": [],
     "prompt_number": 115
    },
    {
     "cell_type": "code",
     "collapsed": false,
     "input": [
      "train.head()"
     ],
     "language": "python",
     "metadata": {},
     "outputs": [
      {
       "html": [
        "<div style=\"max-height:1000px;max-width:1500px;overflow:auto;\">\n",
        "<table border=\"1\" class=\"dataframe\">\n",
        "  <thead>\n",
        "    <tr style=\"text-align: right;\">\n",
        "      <th></th>\n",
        "      <th>const</th>\n",
        "      <th>credit_history_int</th>\n",
        "      <th>purpose_int</th>\n",
        "      <th>housing_int</th>\n",
        "      <th>age_in_years</th>\n",
        "      <th>other_debtors_int</th>\n",
        "      <th>number_of_existing_credits_at_this_bank</th>\n",
        "      <th>bad</th>\n",
        "      <th>istest</th>\n",
        "    </tr>\n",
        "  </thead>\n",
        "  <tbody>\n",
        "    <tr>\n",
        "      <th>0</th>\n",
        "      <td> 1</td>\n",
        "      <td> 4</td>\n",
        "      <td> 4</td>\n",
        "      <td> 1</td>\n",
        "      <td> 67</td>\n",
        "      <td> 0</td>\n",
        "      <td> 2</td>\n",
        "      <td> 0</td>\n",
        "      <td> False</td>\n",
        "    </tr>\n",
        "    <tr>\n",
        "      <th>2</th>\n",
        "      <td> 1</td>\n",
        "      <td> 4</td>\n",
        "      <td> 7</td>\n",
        "      <td> 1</td>\n",
        "      <td> 49</td>\n",
        "      <td> 0</td>\n",
        "      <td> 1</td>\n",
        "      <td> 0</td>\n",
        "      <td> False</td>\n",
        "    </tr>\n",
        "    <tr>\n",
        "      <th>3</th>\n",
        "      <td> 1</td>\n",
        "      <td> 2</td>\n",
        "      <td> 3</td>\n",
        "      <td> 2</td>\n",
        "      <td> 45</td>\n",
        "      <td> 2</td>\n",
        "      <td> 1</td>\n",
        "      <td> 0</td>\n",
        "      <td> False</td>\n",
        "    </tr>\n",
        "    <tr>\n",
        "      <th>4</th>\n",
        "      <td> 1</td>\n",
        "      <td> 3</td>\n",
        "      <td> 0</td>\n",
        "      <td> 2</td>\n",
        "      <td> 53</td>\n",
        "      <td> 0</td>\n",
        "      <td> 2</td>\n",
        "      <td> 1</td>\n",
        "      <td> False</td>\n",
        "    </tr>\n",
        "    <tr>\n",
        "      <th>6</th>\n",
        "      <td> 1</td>\n",
        "      <td> 2</td>\n",
        "      <td> 3</td>\n",
        "      <td> 1</td>\n",
        "      <td> 53</td>\n",
        "      <td> 0</td>\n",
        "      <td> 1</td>\n",
        "      <td> 0</td>\n",
        "      <td> False</td>\n",
        "    </tr>\n",
        "  </tbody>\n",
        "</table>\n",
        "</div>"
       ],
       "output_type": "pyout",
       "prompt_number": 116,
       "text": [
        "   const credit_history_int purpose_int housing_int  age_in_years other_debtors_int  \\\n",
        "0      1                  4           4           1            67                 0   \n",
        "2      1                  4           7           1            49                 0   \n",
        "3      1                  2           3           2            45                 2   \n",
        "4      1                  3           0           2            53                 0   \n",
        "6      1                  2           3           1            53                 0   \n",
        "\n",
        "   number_of_existing_credits_at_this_bank  bad istest  \n",
        "0                                        2    0  False  \n",
        "2                                        1    0  False  \n",
        "3                                        1    0  False  \n",
        "4                                        2    1  False  \n",
        "6                                        1    0  False  "
       ]
      }
     ],
     "prompt_number": 116
    },
    {
     "cell_type": "code",
     "collapsed": false,
     "input": [
      "binomial = sm.families.Binomial()\n",
      "model = sm.GLM.from_formula(\"bad ~ const + I(credit_history_int == 4) + age_in_years.astype(float)\", df=train, family=binomial)"
     ],
     "language": "python",
     "metadata": {},
     "outputs": [],
     "prompt_number": 117
    },
    {
     "cell_type": "code",
     "collapsed": false,
     "input": [
      "result = model.fit()"
     ],
     "language": "python",
     "metadata": {},
     "outputs": [],
     "prompt_number": 118
    },
    {
     "cell_type": "code",
     "collapsed": false,
     "input": [
      "print result.summary()"
     ],
     "language": "python",
     "metadata": {},
     "outputs": [
      {
       "output_type": "stream",
       "stream": "stdout",
       "text": [
        "                 Generalized Linear Model Regression Results                  \n",
        "==============================================================================\n",
        "Dep. Variable:                    bad   No. Observations:                  697\n",
        "Model:                            GLM   Df Residuals:                      694\n",
        "Model Family:                Binomial   Df Model:                            2\n",
        "Link Function:                  logit   Scale:                             1.0\n",
        "Method:                          IRLS   Log-Likelihood:                -409.36\n",
        "Date:                Sun, 07 Apr 2013   Deviance:                       818.71\n",
        "Time:                        22:19:12   Pearson chi2:                     691.\n",
        "No. Iterations:                     5                                         \n",
        "======================================================================================================\n",
        "                                         coef    std err          t      P>|t|      [95.0% Conf. Int.]\n",
        "------------------------------------------------------------------------------------------------------\n",
        "Intercept                             -0.0277      0.141     -0.196      0.845        -0.304     0.249\n",
        "I(credit_history_int == 4)[T.True]    -1.1984      0.220     -5.450      0.000        -1.629    -0.767\n",
        "const                                 -0.0277      0.141     -0.196      0.845        -0.304     0.249\n",
        "age_in_years.astype(float)            -0.0134      0.008     -1.726      0.085        -0.029     0.002\n",
        "======================================================================================================\n"
       ]
      }
     ],
     "prompt_number": 119
    },
    {
     "cell_type": "code",
     "collapsed": false,
     "input": [
      "plt.scatter(train.age_in_years, train.bad)\n",
      "plt.scatter(train.age_in_years, result.fittedvalues, color='r')"
     ],
     "language": "python",
     "metadata": {},
     "outputs": [
      {
       "output_type": "pyout",
       "prompt_number": 120,
       "text": [
        "<matplotlib.collections.PathCollection at 0x1057f3f10>"
       ]
      },
      {
       "output_type": "display_data",
       "png": "[encoded data removed]"
      }
     ],
     "prompt_number": 120
    },
    {
     "cell_type": "code",
     "collapsed": false,
     "input": [
      "scatter(train.age_in_years, train.bad)\n",
      "scatter(train.age_in_years, np.exp(result.fittedvalues)/(1 + np.exp(result.fittedvalues)), color='r')"
     ],
     "language": "python",
     "metadata": {},
     "outputs": [
      {
       "output_type": "pyout",
       "prompt_number": 121,
       "text": [
        "<matplotlib.collections.PathCollection at 0x109993750>"
       ]
      },
      {
       "output_type": "display_data",
       "png": "[encoded data removed]"
      }
     ],
     "prompt_number": 121
    },
    {
     "cell_type": "code",
     "collapsed": false,
     "input": [
      "params = result.params\n",
      "params"
     ],
     "language": "python",
     "metadata": {},
     "outputs": [
      {
       "output_type": "pyout",
       "prompt_number": 122,
       "text": [
        "Intercept                            -0.027658\n",
        "I(credit_history_int == 4)[T.True]   -1.198368\n",
        "const                                -0.027658\n",
        "age_in_years.astype(float)           -0.013437"
       ]
      }
     ],
     "prompt_number": 122
    },
    {
     "cell_type": "code",
     "collapsed": false,
     "input": [
      "intercept = params.ix['Intercept']\n",
      "history4_coef = params.ix['I(credit_history_int == 4)[T.True]']\n",
      "age_coef = params.ix['age_in_years.astype(float)']\n",
      "mean_age = df.age_in_years.mean()"
     ],
     "language": "python",
     "metadata": {},
     "outputs": [],
     "prompt_number": 123
    },
    {
     "cell_type": "code",
     "collapsed": false,
     "input": [
      "print intercept + (age_coef * mean_age)\n",
      "print result.params\n",
      "print result.summary()"
     ],
     "language": "python",
     "metadata": {},
     "outputs": [
      {
       "output_type": "stream",
       "stream": "stdout",
       "text": [
        "-0.505282888934\n",
        "Intercept                            -0.027658\n",
        "I(credit_history_int == 4)[T.True]   -1.198368\n",
        "const                                -0.027658\n",
        "age_in_years.astype(float)           -0.013437\n",
        "                 Generalized Linear Model Regression Results                  \n",
        "==============================================================================\n",
        "Dep. Variable:                    bad   No. Observations:                  697\n",
        "Model:                            GLM   Df Residuals:                      694\n",
        "Model Family:                Binomial   Df Model:                            2\n",
        "Link Function:                  logit   Scale:                             1.0\n",
        "Method:                          IRLS   Log-Likelihood:                -409.36\n",
        "Date:                Sun, 07 Apr 2013   Deviance:                       818.71\n",
        "Time:                        22:19:15   Pearson chi2:                     691.\n",
        "No. Iterations:                     5                                         \n",
        "======================================================================================================\n",
        "                                         coef    std err          t      P>|t|      [95.0% Conf. Int.]\n",
        "------------------------------------------------------------------------------------------------------\n",
        "Intercept                             -0.0277      0.141     -0.196      0.845        -0.304     0.249\n",
        "I(credit_history_int == 4)[T.True]    -1.1984      0.220     -5.450      0.000        -1.629    -0.767\n",
        "const                                 -0.0277      0.141     -0.196      0.845        -0.304     0.249\n",
        "age_in_years.astype(float)            -0.0134      0.008     -1.726      0.085        -0.029     0.002\n",
        "======================================================================================================\n"
       ]
      }
     ],
     "prompt_number": 124
    },
    {
     "cell_type": "code",
     "collapsed": false,
     "input": [
      "def odds_to_probability(odds):\n",
      "    return odds / (1 + odds)"
     ],
     "language": "python",
     "metadata": {},
     "outputs": [],
     "prompt_number": 125
    },
    {
     "cell_type": "code",
     "collapsed": false,
     "input": [
      "odds_at_35 = exp(intercept + age_coef * df.age_in_years.mean())\n",
      "odds_at_36 = exp(intercept + age_coef * df.age_in_years.mean()+1)\n",
      "odds_to_probability(odds_at_36) - odds_to_probability(odds_at_35)"
     ],
     "language": "python",
     "metadata": {},
     "outputs": [
      {
       "output_type": "pyout",
       "prompt_number": 126,
       "text": [
        "0.24491705606278524"
       ]
      }
     ],
     "prompt_number": 126
    },
    {
     "cell_type": "code",
     "collapsed": false,
     "input": [
      "test['predicted'] = result.predict(test)\n",
      "test.head()"
     ],
     "language": "python",
     "metadata": {},
     "outputs": [
      {
       "html": [
        "<div style=\"max-height:1000px;max-width:1500px;overflow:auto;\">\n",
        "<table border=\"1\" class=\"dataframe\">\n",
        "  <thead>\n",
        "    <tr style=\"text-align: right;\">\n",
        "      <th></th>\n",
        "      <th>const</th>\n",
        "      <th>credit_history_int</th>\n",
        "      <th>purpose_int</th>\n",
        "      <th>housing_int</th>\n",
        "      <th>age_in_years</th>\n",
        "      <th>other_debtors_int</th>\n",
        "      <th>number_of_existing_credits_at_this_bank</th>\n",
        "      <th>bad</th>\n",
        "      <th>istest</th>\n",
        "      <th>predicted</th>\n",
        "    </tr>\n",
        "  </thead>\n",
        "  <tbody>\n",
        "    <tr>\n",
        "      <th>1 </th>\n",
        "      <td> 1</td>\n",
        "      <td> 2</td>\n",
        "      <td> 4</td>\n",
        "      <td> 1</td>\n",
        "      <td> 22</td>\n",
        "      <td> 0</td>\n",
        "      <td> 1</td>\n",
        "      <td> 1</td>\n",
        "      <td> True</td>\n",
        "      <td> 0.413158</td>\n",
        "    </tr>\n",
        "    <tr>\n",
        "      <th>5 </th>\n",
        "      <td> 1</td>\n",
        "      <td> 2</td>\n",
        "      <td> 7</td>\n",
        "      <td> 2</td>\n",
        "      <td> 35</td>\n",
        "      <td> 0</td>\n",
        "      <td> 1</td>\n",
        "      <td> 0</td>\n",
        "      <td> True</td>\n",
        "      <td> 0.371543</td>\n",
        "    </tr>\n",
        "    <tr>\n",
        "      <th>9 </th>\n",
        "      <td> 1</td>\n",
        "      <td> 4</td>\n",
        "      <td> 0</td>\n",
        "      <td> 1</td>\n",
        "      <td> 28</td>\n",
        "      <td> 0</td>\n",
        "      <td> 2</td>\n",
        "      <td> 1</td>\n",
        "      <td> True</td>\n",
        "      <td> 0.163842</td>\n",
        "    </tr>\n",
        "    <tr>\n",
        "      <th>12</th>\n",
        "      <td> 1</td>\n",
        "      <td> 2</td>\n",
        "      <td> 4</td>\n",
        "      <td> 1</td>\n",
        "      <td> 22</td>\n",
        "      <td> 0</td>\n",
        "      <td> 1</td>\n",
        "      <td> 0</td>\n",
        "      <td> True</td>\n",
        "      <td> 0.413158</td>\n",
        "    </tr>\n",
        "    <tr>\n",
        "      <th>13</th>\n",
        "      <td> 1</td>\n",
        "      <td> 4</td>\n",
        "      <td> 0</td>\n",
        "      <td> 1</td>\n",
        "      <td> 60</td>\n",
        "      <td> 0</td>\n",
        "      <td> 2</td>\n",
        "      <td> 1</td>\n",
        "      <td> True</td>\n",
        "      <td> 0.113057</td>\n",
        "    </tr>\n",
        "  </tbody>\n",
        "</table>\n",
        "</div>"
       ],
       "output_type": "pyout",
       "prompt_number": 127,
       "text": [
        "    const credit_history_int purpose_int housing_int  age_in_years other_debtors_int  \\\n",
        "1       1                  2           4           1            22                 0   \n",
        "5       1                  2           7           2            35                 0   \n",
        "9       1                  4           0           1            28                 0   \n",
        "12      1                  2           4           1            22                 0   \n",
        "13      1                  4           0           1            60                 0   \n",
        "\n",
        "    number_of_existing_credits_at_this_bank  bad istest  predicted  \n",
        "1                                         1    1   True   0.413158  \n",
        "5                                         1    0   True   0.371543  \n",
        "9                                         2    1   True   0.163842  \n",
        "12                                        1    0   True   0.413158  \n",
        "13                                        2    1   True   0.113057  "
       ]
      }
     ],
     "prompt_number": 127
    },
    {
     "cell_type": "code",
     "collapsed": false,
     "input": [
      "plt.scatter(test.age_in_years, test.bad)\n",
      "plt.scatter(test.age_in_years, test.predicted, color='r')"
     ],
     "language": "python",
     "metadata": {},
     "outputs": [
      {
       "output_type": "pyout",
       "prompt_number": 128,
       "text": [
        "<matplotlib.collections.PathCollection at 0x109b7ed10>"
       ]
      },
      {
       "output_type": "display_data",
       "png": "[encoded data removed]"
      }
     ],
     "prompt_number": 128
    },
    {
     "cell_type": "markdown",
     "metadata": {},
     "source": [
      "<h1>Receiver operating characteristic (ROC)</h1>"
     ]
    },
    {
     "cell_type": "code",
     "collapsed": false,
     "input": [
      "# Compute ROC curve and area the curve\n",
      "fpr, tpr, thresholds = roc_curve(test.bad, test.predicted)\n",
      "roc_auc = auc(fpr, tpr)\n",
      "print \"Area under the ROC curve : %f\" % roc_auc\n",
      "\n",
      "# Plot ROC curve\n",
      "pl.clf()\n",
      "pl.plot(fpr, tpr, label='ROC curve (area = %0.2f)' % roc_auc)\n",
      "pl.plot([0, 1], [0, 1], 'k--')\n",
      "pl.xlim([0.0, 1.0])\n",
      "pl.ylim([0.0, 1.0])\n",
      "pl.xlabel('False Positive Rate')\n",
      "pl.ylabel('True Positive Rate')\n",
      "pl.title('Receiver operating characteristic')\n",
      "pl.legend(loc=\"lower right\")\n",
      "pl.show()"
     ],
     "language": "python",
     "metadata": {},
     "outputs": [
      {
       "output_type": "stream",
       "stream": "stdout",
       "text": [
        "Area under the ROC curve : 0.569178\n"
       ]
      },
      {
       "output_type": "display_data",
       "png": "[encoded data removed]"
      }
     ],
     "prompt_number": 129
    },
    {
     "cell_type": "code",
     "collapsed": false,
     "input": [
      "df = sm.add_constant(df, prepend=True) if not 'const' in df.columns else df\n",
      "df['istest'] = np.nan\n",
      "df['predicted'] = result.predict(df)"
     ],
     "language": "python",
     "metadata": {},
     "outputs": [],
     "prompt_number": 130
    },
    {
     "cell_type": "code",
     "collapsed": false,
     "input": [
      "df[test.columns].head()"
     ],
     "language": "python",
     "metadata": {},
     "outputs": [
      {
       "html": [
        "<div style=\"max-height:1000px;max-width:1500px;overflow:auto;\">\n",
        "<table border=\"1\" class=\"dataframe\">\n",
        "  <thead>\n",
        "    <tr style=\"text-align: right;\">\n",
        "      <th></th>\n",
        "      <th>const</th>\n",
        "      <th>credit_history_int</th>\n",
        "      <th>purpose_int</th>\n",
        "      <th>housing_int</th>\n",
        "      <th>age_in_years</th>\n",
        "      <th>other_debtors_int</th>\n",
        "      <th>number_of_existing_credits_at_this_bank</th>\n",
        "      <th>bad</th>\n",
        "      <th>istest</th>\n",
        "      <th>predicted</th>\n",
        "    </tr>\n",
        "  </thead>\n",
        "  <tbody>\n",
        "    <tr>\n",
        "      <th>0</th>\n",
        "      <td> 1</td>\n",
        "      <td> 4</td>\n",
        "      <td> 4</td>\n",
        "      <td> 1</td>\n",
        "      <td> 67</td>\n",
        "      <td> 0</td>\n",
        "      <td> 2</td>\n",
        "      <td> 0</td>\n",
        "      <td>NaN</td>\n",
        "      <td> 0.103963</td>\n",
        "    </tr>\n",
        "    <tr>\n",
        "      <th>1</th>\n",
        "      <td> 1</td>\n",
        "      <td> 2</td>\n",
        "      <td> 4</td>\n",
        "      <td> 1</td>\n",
        "      <td> 22</td>\n",
        "      <td> 0</td>\n",
        "      <td> 1</td>\n",
        "      <td> 1</td>\n",
        "      <td>NaN</td>\n",
        "      <td> 0.413158</td>\n",
        "    </tr>\n",
        "    <tr>\n",
        "      <th>2</th>\n",
        "      <td> 1</td>\n",
        "      <td> 4</td>\n",
        "      <td> 7</td>\n",
        "      <td> 1</td>\n",
        "      <td> 49</td>\n",
        "      <td> 0</td>\n",
        "      <td> 1</td>\n",
        "      <td> 0</td>\n",
        "      <td>NaN</td>\n",
        "      <td> 0.128747</td>\n",
        "    </tr>\n",
        "    <tr>\n",
        "      <th>3</th>\n",
        "      <td> 1</td>\n",
        "      <td> 2</td>\n",
        "      <td> 3</td>\n",
        "      <td> 2</td>\n",
        "      <td> 45</td>\n",
        "      <td> 2</td>\n",
        "      <td> 1</td>\n",
        "      <td> 0</td>\n",
        "      <td>NaN</td>\n",
        "      <td> 0.340746</td>\n",
        "    </tr>\n",
        "    <tr>\n",
        "      <th>4</th>\n",
        "      <td> 1</td>\n",
        "      <td> 3</td>\n",
        "      <td> 0</td>\n",
        "      <td> 2</td>\n",
        "      <td> 53</td>\n",
        "      <td> 0</td>\n",
        "      <td> 2</td>\n",
        "      <td> 1</td>\n",
        "      <td>NaN</td>\n",
        "      <td> 0.317027</td>\n",
        "    </tr>\n",
        "  </tbody>\n",
        "</table>\n",
        "</div>"
       ],
       "output_type": "pyout",
       "prompt_number": 131,
       "text": [
        "   const credit_history_int purpose_int housing_int  age_in_years other_debtors_int  \\\n",
        "0      1                  4           4           1            67                 0   \n",
        "1      1                  2           4           1            22                 0   \n",
        "2      1                  4           7           1            49                 0   \n",
        "3      1                  2           3           2            45                 2   \n",
        "4      1                  3           0           2            53                 0   \n",
        "\n",
        "   number_of_existing_credits_at_this_bank  bad  istest  predicted  \n",
        "0                                        2    0     NaN   0.103963  \n",
        "1                                        1    1     NaN   0.413158  \n",
        "2                                        1    0     NaN   0.128747  \n",
        "3                                        1    0     NaN   0.340746  \n",
        "4                                        2    1     NaN   0.317027  "
       ]
      }
     ],
     "prompt_number": 131
    },
    {
     "cell_type": "code",
     "collapsed": false,
     "input": [
      "# Compute ROC curve and area the curve\n",
      "fpr, tpr, thresholds = roc_curve(df.bad, df.predicted)\n",
      "roc_auc = auc(fpr, tpr)\n",
      "print \"Area under the ROC curve : %f\" % roc_auc\n",
      "\n",
      "# Plot ROC curve\n",
      "pl.clf()\n",
      "pl.plot(fpr, tpr, label='ROC curve (area = %0.2f)' % roc_auc)\n",
      "pl.plot([0, 1], [0, 1], 'k--')\n",
      "pl.xlim([0.0, 1.0])\n",
      "pl.ylim([0.0, 1.0])\n",
      "pl.xlabel('False Positive Rate')\n",
      "pl.ylabel('True Positive Rate')\n",
      "pl.title('Receiver operating characteristic')\n",
      "pl.legend(loc=\"lower right\")\n",
      "pl.show()"
     ],
     "language": "python",
     "metadata": {},
     "outputs": [
      {
       "output_type": "stream",
       "stream": "stdout",
       "text": [
        "Area under the ROC curve : 0.615902\n"
       ]
      },
      {
       "output_type": "display_data",
       "png": "[encoded data removed]"
      }
     ],
     "prompt_number": 132
    },
    {
     "cell_type": "markdown",
     "metadata": {},
     "source": [
      "<h1>Rank Plot</h1>"
     ]
    },
    {
     "cell_type": "code",
     "collapsed": false,
     "input": [
      "df[['bad','const','age_in_years','predicted']].head()"
     ],
     "language": "python",
     "metadata": {},
     "outputs": [
      {
       "html": [
        "<div style=\"max-height:1000px;max-width:1500px;overflow:auto;\">\n",
        "<table border=\"1\" class=\"dataframe\">\n",
        "  <thead>\n",
        "    <tr style=\"text-align: right;\">\n",
        "      <th></th>\n",
        "      <th>bad</th>\n",
        "      <th>const</th>\n",
        "      <th>age_in_years</th>\n",
        "      <th>predicted</th>\n",
        "    </tr>\n",
        "  </thead>\n",
        "  <tbody>\n",
        "    <tr>\n",
        "      <th>0</th>\n",
        "      <td> 0</td>\n",
        "      <td> 1</td>\n",
        "      <td> 67</td>\n",
        "      <td> 0.103963</td>\n",
        "    </tr>\n",
        "    <tr>\n",
        "      <th>1</th>\n",
        "      <td> 1</td>\n",
        "      <td> 1</td>\n",
        "      <td> 22</td>\n",
        "      <td> 0.413158</td>\n",
        "    </tr>\n",
        "    <tr>\n",
        "      <th>2</th>\n",
        "      <td> 0</td>\n",
        "      <td> 1</td>\n",
        "      <td> 49</td>\n",
        "      <td> 0.128747</td>\n",
        "    </tr>\n",
        "    <tr>\n",
        "      <th>3</th>\n",
        "      <td> 0</td>\n",
        "      <td> 1</td>\n",
        "      <td> 45</td>\n",
        "      <td> 0.340746</td>\n",
        "    </tr>\n",
        "    <tr>\n",
        "      <th>4</th>\n",
        "      <td> 1</td>\n",
        "      <td> 1</td>\n",
        "      <td> 53</td>\n",
        "      <td> 0.317027</td>\n",
        "    </tr>\n",
        "  </tbody>\n",
        "</table>\n",
        "</div>"
       ],
       "output_type": "pyout",
       "prompt_number": 133,
       "text": [
        "   bad  const  age_in_years  predicted\n",
        "0    0      1            67   0.103963\n",
        "1    1      1            22   0.413158\n",
        "2    0      1            49   0.128747\n",
        "3    0      1            45   0.340746\n",
        "4    1      1            53   0.317027"
       ]
      }
     ],
     "prompt_number": 133
    },
    {
     "cell_type": "code",
     "collapsed": false,
     "input": [
      "df['predicted_demidecile'] = np.floor(20*df.predicted.rank()/len(df))\n",
      "df[['bad','age_in_years','predicted', 'predicted_demidecile']].head()"
     ],
     "language": "python",
     "metadata": {},
     "outputs": [
      {
       "html": [
        "<div style=\"max-height:1000px;max-width:1500px;overflow:auto;\">\n",
        "<table border=\"1\" class=\"dataframe\">\n",
        "  <thead>\n",
        "    <tr style=\"text-align: right;\">\n",
        "      <th></th>\n",
        "      <th>bad</th>\n",
        "      <th>age_in_years</th>\n",
        "      <th>predicted</th>\n",
        "      <th>predicted_demidecile</th>\n",
        "    </tr>\n",
        "  </thead>\n",
        "  <tbody>\n",
        "    <tr>\n",
        "      <th>0</th>\n",
        "      <td> 0</td>\n",
        "      <td> 67</td>\n",
        "      <td> 0.103963</td>\n",
        "      <td>  0</td>\n",
        "    </tr>\n",
        "    <tr>\n",
        "      <th>1</th>\n",
        "      <td> 1</td>\n",
        "      <td> 22</td>\n",
        "      <td> 0.413158</td>\n",
        "      <td> 19</td>\n",
        "    </tr>\n",
        "    <tr>\n",
        "      <th>2</th>\n",
        "      <td> 0</td>\n",
        "      <td> 49</td>\n",
        "      <td> 0.128747</td>\n",
        "      <td>  1</td>\n",
        "    </tr>\n",
        "    <tr>\n",
        "      <th>3</th>\n",
        "      <td> 0</td>\n",
        "      <td> 45</td>\n",
        "      <td> 0.340746</td>\n",
        "      <td>  8</td>\n",
        "    </tr>\n",
        "    <tr>\n",
        "      <th>4</th>\n",
        "      <td> 1</td>\n",
        "      <td> 53</td>\n",
        "      <td> 0.317027</td>\n",
        "      <td>  7</td>\n",
        "    </tr>\n",
        "  </tbody>\n",
        "</table>\n",
        "</div>"
       ],
       "output_type": "pyout",
       "prompt_number": 134,
       "text": [
        "   bad  age_in_years  predicted  predicted_demidecile\n",
        "0    0            67   0.103963                     0\n",
        "1    1            22   0.413158                    19\n",
        "2    0            49   0.128747                     1\n",
        "3    0            45   0.340746                     8\n",
        "4    1            53   0.317027                     7"
       ]
      }
     ],
     "prompt_number": 134
    },
    {
     "cell_type": "code",
     "collapsed": false,
     "input": [
      "df.groupby('predicted_demidecile').predicted.mean()"
     ],
     "language": "python",
     "metadata": {},
     "outputs": [
      {
       "output_type": "pyout",
       "prompt_number": 135,
       "text": [
        "predicted_demidecile\n",
        "0                       0.114422\n",
        "1                       0.134377\n",
        "2                       0.145274\n",
        "3                       0.152511\n",
        "4                       0.162461\n",
        "5                       0.183829\n",
        "6                       0.299334\n",
        "7                       0.327234\n",
        "8                       0.344289\n",
        "9                       0.356071\n",
        "10                      0.365764\n",
        "11                      0.373083\n",
        "12                      0.379589\n",
        "13                      0.385769\n",
        "14                      0.392156\n",
        "15                      0.396969\n",
        "16                      0.400190\n",
        "17                      0.405114\n",
        "18                      0.409904\n",
        "19                      0.415879\n",
        "Name: predicted"
       ]
      }
     ],
     "prompt_number": 135
    },
    {
     "cell_type": "code",
     "collapsed": false,
     "input": [
      "df.groupby('predicted_demidecile').bad.mean()"
     ],
     "language": "python",
     "metadata": {},
     "outputs": [
      {
       "output_type": "pyout",
       "prompt_number": 136,
       "text": [
        "predicted_demidecile\n",
        "0                       0.086957\n",
        "1                       0.132075\n",
        "2                       0.095238\n",
        "3                       0.172414\n",
        "4                       0.236364\n",
        "5                       0.333333\n",
        "6                       0.346939\n",
        "7                       0.367347\n",
        "8                       0.351852\n",
        "9                       0.325581\n",
        "10                      0.283019\n",
        "11                      0.294118\n",
        "12                      0.319149\n",
        "13                      0.267857\n",
        "14                      0.406250\n",
        "15                      0.323529\n",
        "16                      0.318182\n",
        "17                      0.461538\n",
        "18                      0.421053\n",
        "19                      0.407407\n",
        "Name: bad"
       ]
      }
     ],
     "prompt_number": 136
    },
    {
     "cell_type": "code",
     "collapsed": false,
     "input": [
      "plot(df.groupby('predicted_demidecile')['predicted'].mean(), color = 'r')\n",
      "plot(df.groupby('predicted_demidecile')['bad'].mean())"
     ],
     "language": "python",
     "metadata": {},
     "outputs": [
      {
       "output_type": "pyout",
       "prompt_number": 137,
       "text": [
        "[<matplotlib.lines.Line2D at 0x1085d9590>]"
       ]
      },
      {
       "output_type": "display_data",
       "png": "[encoded data removed]"
      }
     ],
     "prompt_number": 137
    },
    {
     "cell_type": "code",
     "collapsed": false,
     "input": [],
     "language": "python",
     "metadata": {},
     "outputs": [],
     "prompt_number": 137
    },
    {
     "cell_type": "code",
     "collapsed": false,
     "input": [],
     "language": "python",
     "metadata": {},
     "outputs": []
    }
   ],
   "metadata": {}
  }
 ]
}